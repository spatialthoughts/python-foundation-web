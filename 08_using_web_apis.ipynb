{
 "cells": [
  {
   "cell_type": "markdown",
   "metadata": {
    "id": "K1gQzEOsAoAl"
   },
   "source": [
    "# Using Web APIs"
   ]
  },
  {
   "cell_type": "markdown",
   "metadata": {
    "id": "ezIKApn-AoAn"
   },
   "source": [
    "An API, or Application Program Interface, allows one program to *talk* to another program. Many websites or services provide an API so you can query for information in an automated way.\n",
    "\n",
    "For mapping and spatial analysis, being able to use APIs is critical. For the longest time, Google Maps API was the most popular API on the web. APIs allow you to query web servers and get results without downloading data or running computation on your machine.\n",
    "\n",
    "Common use cases for using APIs for spatial analysis are\n",
    "\n",
    "- Getting directions / routing\n",
    "- Route optimization\n",
    "- Geocoding\n",
    "- Downloading data\n",
    "- Getting real-time weather data\n",
    "- ...\n",
    "\n",
    "The provide of such APIs have many ways to implement an API. There are standards such as REST, SOAP, GraphQL etc. *REST* is the most populat standard for web APIs, and for geospatial APIs. REST APIs are used over HTTP and thus called web APIs.\n"
   ]
  },
  {
   "cell_type": "markdown",
   "metadata": {
    "id": "0pqHr4YLAoAo"
   },
   "source": [
    "## Understanding JSON and GeoJSON\n",
    "\n",
    "JSON stands for **J**ava**S**cript **O**bject **N**otation. It is a format for storing and transporting data, and is the de-facto standard for data exchanged by APIs. GeoJSON is an extension of the JSON format that is commonly used to represent spatial data.\n",
    "\n",
    "Python has a built-in `json` module that has methods for reading json data and converting it to Python objects, and vice-versa. In this example, we are using the `requests` module for querying the API which conveniently does the conversion for us. But it is useful to learn the basics of working with JSON in Python."
   ]
  },
  {
   "cell_type": "markdown",
   "metadata": {
    "id": "_knZrgqWAoAo"
   },
   "source": [
    "The GeoJSON data contains *features*, where each feature has some *properties* and a *geometry*."
   ]
  },
  {
   "cell_type": "code",
   "execution_count": null,
   "metadata": {
    "id": "D8upUHYQAoAp"
   },
   "outputs": [],
   "source": [
    "geojson_string = '''\n",
    "{\n",
    "  \"type\": \"FeatureCollection\",\n",
    "  \"features\": [\n",
    "    {\"type\": \"Feature\",\n",
    "      \"properties\": {\"name\": \"San Francisco\"},\n",
    "      \"geometry\": {\"type\": \"Point\", \"coordinates\": [-121.5687, 37.7739]}\n",
    "    }\n",
    "  ]\n",
    "}\n",
    "'''\n",
    "print(geojson_string)"
   ]
  },
  {
   "cell_type": "markdown",
   "metadata": {
    "id": "t2Xj4V3WAoAq"
   },
   "source": [
    "To convert a JSON string to a Python object (i.e. parsing JSON), we can use the `json.loads()` method."
   ]
  },
  {
   "cell_type": "code",
   "execution_count": null,
   "metadata": {
    "id": "HXC7HjJdAoAq"
   },
   "outputs": [],
   "source": [
    "import json\n",
    "\n",
    "data = json.loads(geojson_string)\n",
    "print(type(data))\n",
    "print(data)"
   ]
  },
  {
   "cell_type": "markdown",
   "metadata": {
    "id": "eeo_6lKUAoAr"
   },
   "source": [
    "Now that we have *parsed* the GeoJSON string and have a Python object, we can extract infromation from it. The data is stored in a *FeatureCollection* - which is a list of *features*. In our example, we have just 1 feature inside the feature collection, so we can access it by using index **0**."
   ]
  },
  {
   "cell_type": "code",
   "execution_count": null,
   "metadata": {
    "id": "ZJdnIfxBAoAr"
   },
   "outputs": [],
   "source": [
    "city_data = data['features'][0]\n",
    "print(city_data)"
   ]
  },
  {
   "cell_type": "markdown",
   "metadata": {
    "id": "k8J8LtpOAoAr"
   },
   "source": [
    "The feature representation is a dictionary, and individual items can be accesses using the *keys*"
   ]
  },
  {
   "cell_type": "code",
   "execution_count": null,
   "metadata": {
    "id": "6aoVFF2DAoAs"
   },
   "outputs": [],
   "source": [
    "city_name = city_data['properties']['name']\n",
    "city_coordinates = city_data['geometry']['coordinates']\n",
    "print(city_name, city_coordinates)"
   ]
  },
  {
   "cell_type": "markdown",
   "metadata": {
    "id": "C-Z_WykFAoAs"
   },
   "source": [
    "## The `requests` module\n",
    "\n",
    "To query a server, we send a **GET** request with some parameters and the server sends a response back. The `requests` module allows you to send HTTP requests and parse the responses using Python.\n",
    "\n",
    "The response contains the data received from the server. It contains the HTTP *status_code* which tells us if the request was successful. HTTP code 200 stands for *Sucess OK*.\n"
   ]
  },
  {
   "cell_type": "code",
   "execution_count": null,
   "metadata": {
    "id": "-HnYrDa_AoAs"
   },
   "outputs": [],
   "source": [
    "import requests\n",
    "\n",
    "response = requests.get('https://www.spatialthoughts.com')\n",
    "\n",
    "print(response.status_code)"
   ]
  },
  {
   "cell_type": "markdown",
   "metadata": {
    "id": "SwghtYMWAoAs"
   },
   "source": [
    "## Calculating Distance using OpenRouteService API"
   ]
  },
  {
   "cell_type": "markdown",
   "metadata": {
    "id": "oO4McI-xAoAs"
   },
   "source": [
    "![](images/python_foundation/ors_direction.png)\n",
    "\n",
    "[OpenRouteService (ORS)](https://openrouteservice.org/) provides a free API for routing, distance matrix, geocoding, route optimization etc. using OpenStreetMap data. We will learn how to use this API through Python and get real-world distance between cities."
   ]
  },
  {
   "cell_type": "markdown",
   "metadata": {
    "id": "9WwceaBGAoAs"
   },
   "source": [
    "Almost all APIs require you to sign-up and obtain a *key*. The *key* is used to identify you and enforce usage limits so that you do not overwhelm the servers. We will obtain a key from OpenRouteServie so we can use their API\n",
    "\n",
    "Visit [OpenRouteService Sign-up page](https://openrouteservice.org/dev/#/signup) and create an account. Once your account is activated, visit your Dashboard and request a token. Select *Standard* as the Token type and enter ``python_foundation`` as the Token name. Click *CREATE TOKEN*. Once created, copy the long string displayed under Key and enter below."
   ]
  },
  {
   "cell_type": "code",
   "execution_count": null,
   "metadata": {
    "id": "lHhUmBciAoAt"
   },
   "outputs": [],
   "source": [
    "ORS_API_KEY = 'replace this with your key'"
   ]
  },
  {
   "cell_type": "markdown",
   "metadata": {
    "id": "TBhpkkKnAoAt"
   },
   "source": [
    "We will use the OpenRouteServices's [Directions Service](https://openrouteservice.org/dev/#/api-docs/v2/directions/{profile}/get). This service returns the driving, biking or walking directions between the given origin and destination points."
   ]
  },
  {
   "cell_type": "code",
   "execution_count": null,
   "metadata": {
    "id": "5BtidXUcAoAt"
   },
   "outputs": [],
   "source": [
    "import requests\n",
    "\n",
    "san_francisco = (37.7749, -122.4194)\n",
    "new_york = (40.661, -73.944)\n",
    "\n",
    "parameters = {\n",
    "    'api_key': ORS_API_KEY,\n",
    "    'start' : '{},{}'.format(san_francisco[1], san_francisco[0]),\n",
    "    'end' : '{},{}'.format(new_york[1], new_york[0])\n",
    "}\n",
    "\n",
    "response = requests.get(\n",
    "    'https://api.openrouteservice.org/v2/directions/driving-car', params=parameters)\n",
    "\n",
    "if response.status_code == 200:\n",
    "    print('Request successful.')\n",
    "    data = response.json()\n",
    "else:\n",
    "    print('Request failed.')\n"
   ]
  },
  {
   "cell_type": "markdown",
   "metadata": {
    "id": "rupIfVILAoAt"
   },
   "source": [
    "We can read the `response` in JSON format by calling `json()` method on it."
   ]
  },
  {
   "cell_type": "code",
   "execution_count": null,
   "metadata": {
    "id": "NaWVViC0AoAt"
   },
   "outputs": [],
   "source": [
    "data = response.json()"
   ]
  },
  {
   "cell_type": "markdown",
   "metadata": {
    "id": "8w4TC2tWAoAt"
   },
   "source": [
    "The response is a GeoJSON object representing the driving direction between the 2 points. The object is a feature collection with just 1 feature. We can access it using the index **0**. The feature's property contains `summary` information which has the data we need."
   ]
  },
  {
   "cell_type": "code",
   "execution_count": null,
   "metadata": {
    "id": "WsA2HSdWAoAt"
   },
   "outputs": [],
   "source": [
    "summary = data['features'][0]['properties']['summary']\n",
    "print(summary)"
   ]
  },
  {
   "cell_type": "markdown",
   "metadata": {
    "id": "UaJCkoyrAoAt"
   },
   "source": [
    "We can extract the `distance` and convert it to kilometers."
   ]
  },
  {
   "cell_type": "code",
   "execution_count": null,
   "metadata": {
    "id": "qv96p2TUAoAt"
   },
   "outputs": [],
   "source": [
    "distance = summary['distance']\n",
    "print(distance/1000)"
   ]
  },
  {
   "cell_type": "markdown",
   "metadata": {
    "id": "LaQHKh-pAoAt"
   },
   "source": [
    "You can compare this distance to the straight-line distance and see the difference."
   ]
  },
  {
   "cell_type": "markdown",
   "metadata": {
    "id": "JgvL8ylkAoAu"
   },
   "source": [
    "## Exercise 1\n",
    "\n",
    "Replace the `ORS_API_KEY` with your own key in the code below. Change the cities with your chosen cities and run the cell to see the summary of driving directions. Extract the values for `distance` (meters) and `duration` (seconds). Convert and print the driving distance in km and driving time in minutes."
   ]
  },
  {
   "cell_type": "code",
   "execution_count": null,
   "metadata": {
    "id": "7hJDiKbZAoAu"
   },
   "outputs": [],
   "source": [
    "import requests\n",
    "\n",
    "ORS_API_KEY = 'replace this with your key'\n",
    "\n",
    "san_francisco = (37.7749, -122.4194)\n",
    "new_york = (40.661, -73.944)\n",
    "\n",
    "parameters = {\n",
    "    'api_key': ORS_API_KEY,\n",
    "    'start' : '{},{}'.format(san_francisco[1], san_francisco[0]),\n",
    "    'end' : '{},{}'.format(new_york[1], new_york[0])\n",
    "}\n",
    "\n",
    "response = requests.get(\n",
    "    'https://api.openrouteservice.org/v2/directions/driving-car', params=parameters)\n",
    "\n",
    "if response.status_code == 200:\n",
    "    print('Request successful.')\n",
    "    data = response.json()\n",
    "else:\n",
    "    print('Request failed.')\n",
    "\n",
    "data = response.json()\n",
    "\n",
    "summary = data['features'][0]['properties']['summary']\n",
    "print(summary)"
   ]
  },
  {
   "cell_type": "markdown",
   "metadata": {
    "id": "Sxvbm8V9AoAu"
   },
   "source": [
    "## API Rate Limiting\n",
    "\n",
    "Many web APIs enforce *rate limiting* - allowing a limited number of requests over time. With computers it is easy to write a for loop, or have multiple programs send hundrends or thousands of queries per second. The server may not be configured to handle such volume. So the providers specify the limits on how many and how fast the queries can be sent.\n",
    "\n",
    "OpenRouteService lists several [API Restrictions](https://openrouteservice.org/plans/). The free plan allows for upto 40 direction requests/minute.\n",
    "\n",
    "There are many libraries available to implement various strategies for rate limiting. But we can use the built-in `time` module to implement a very simple rate limiting method."
   ]
  },
  {
   "cell_type": "markdown",
   "metadata": {
    "id": "PlqJCZtUAoAu"
   },
   "source": [
    "### The `time` module\n",
    "\n",
    "Python Standard Library has a `time` module that allows for time related operation. It contains a method `time.sleep()` which delays the execution of the program for the specified number of seconds."
   ]
  },
  {
   "cell_type": "code",
   "execution_count": null,
   "metadata": {
    "id": "vHmblYmkAoAu"
   },
   "outputs": [],
   "source": [
    "import time\n",
    "for x in range(10):\n",
    "    print(x)\n",
    "    time.sleep(1)"
   ]
  },
  {
   "cell_type": "markdown",
   "metadata": {
    "id": "VFBzyN4CAoAu"
   },
   "source": [
    "## Exercise 2\n",
    "\n",
    "Below cell contains a dictionary with 3 destination cities and their coordinates. Write a `for` loop to iterate over the `destination_cities` dictionary and call `get_driving_distance()` function to print real driving distance between San Fransico and each city. Rate limit your queries by adding `time.sleep(2)` between successive function calls. Make sure to replace the `ORS_API_KEY` value with your own key."
   ]
  },
  {
   "cell_type": "code",
   "execution_count": null,
   "metadata": {
    "id": "MHJHuKYBAoAu"
   },
   "outputs": [],
   "source": [
    "import requests\n",
    "import time\n",
    "\n",
    "ORS_API_KEY = 'replace this with your key'\n",
    "\n",
    "def get_driving_distance(source_coordinates, dest_coordinates):\n",
    "    parameters = {\n",
    "    'api_key': ORS_API_KEY,\n",
    "    'start' : '{},{}'.format(source_coordinates[1], source_coordinates[0]),\n",
    "    'end' : '{},{}'.format(dest_coordinates[1], dest_coordinates[0])\n",
    "    }\n",
    "\n",
    "    response = requests.get(\n",
    "        'https://api.openrouteservice.org/v2/directions/driving-car', params=parameters)\n",
    "\n",
    "    if response.status_code == 200:\n",
    "        data = response.json()\n",
    "        summary = data['features'][0]['properties']['summary']\n",
    "        distance = summary['distance']\n",
    "        return distance/1000\n",
    "    else:\n",
    "        print('Request failed.')\n",
    "        return -9999\n",
    "\n",
    "san_francisco = (37.7749, -122.4194)\n",
    "\n",
    "destination_cities = {\n",
    "    'Los Angeles': (34.0522, -118.2437),\n",
    "    'Boston': (42.3601, -71.0589),\n",
    "    'Atlanta': (33.7490, -84.3880)\n",
    "}"
   ]
  },
  {
   "cell_type": "markdown",
   "metadata": {
    "id": "zm_OWfkPAoAu"
   },
   "source": [
    "----"
   ]
  }
 ],
 "metadata": {
  "colab": {
   "provenance": []
  },
  "kernelspec": {
   "display_name": "Python 3 (ipykernel)",
   "language": "python",
   "name": "python3"
  },
  "language_info": {
   "codemirror_mode": {
    "name": "ipython",
    "version": 3
   },
   "file_extension": ".py",
   "mimetype": "text/x-python",
   "name": "python",
   "nbconvert_exporter": "python",
   "pygments_lexer": "ipython3",
   "version": "3.12.1"
  }
 },
 "nbformat": 4,
 "nbformat_minor": 4
}
