{
 "cells": [
  {
   "cell_type": "markdown",
   "metadata": {
    "id": "jdqMWespA2ZH"
   },
   "source": [
    "# Third-party Modules\n",
    "\n",
    "Python has a thriving ecosystem of third-party modules (i.e. libraries or packages) available for you to install. There are hundreds of thousands of such modules available for you to install and use.\n",
    "\n",
    "## Installing third-party libraries\n",
    "\n",
    "Python comes with a package manager called `pip`. It can install all the packages listed at [PyPI (Python Package Index)](https://pypi.org/). To install a package using pip, you need to run a command like following in a Terminal or CMD prompt.\n",
    "\n",
    "`pip install <package name>`\n",
    "\n",
    "For this course, we are using Anancoda platform - which comes with its own package manager called `conda`. You can use Anaconda Navigator to search and install packages. Or run the command like following in a Terminal or CMD Prompt.\n",
    "\n",
    "`conda install <package name>`\n",
    "\n",
    "See this [comparison of pip and conda](https://www.anaconda.com/blog/understanding-conda-and-pip) to understand the differences.\n",
    "\n",
    "You may also use [Mamba](https://mamba.readthedocs.io/en/latest/index.html) as an alternate open-source package manager that is fully compatible with conda."
   ]
  },
  {
   "cell_type": "markdown",
   "metadata": {
    "id": "rJi2OaXsA2ZL"
   },
   "source": [
    "## Calculating Distance"
   ]
  },
  {
   "cell_type": "markdown",
   "metadata": {
    "id": "yJP1ekb4A2ZL"
   },
   "source": [
    "We have already installed the `geopy` package in our environment. `geopy` comes with functions that have already implemented many distance calculation formulae.\n",
    "\n",
    "- `distance.great_circle()`: Calculates the distance on a great circle using haversine formula\n",
    "- `distance.geodesic()`: Calculates the distance using a chosen ellipsoid using vincenty's formula"
   ]
  },
  {
   "cell_type": "code",
   "execution_count": null,
   "metadata": {
    "id": "QwpT5XZ5A2ZM"
   },
   "outputs": [],
   "source": [
    "from geopy import distance\n",
    "\n",
    "san_francisco = (37.7749, -122.4194)\n",
    "new_york = (40.661, -73.944)\n",
    "\n",
    "straight_line_distance = distance.great_circle(san_francisco, new_york)\n",
    "ellipsoid_distance = distance.geodesic(san_francisco, new_york, ellipsoid='WGS-84')\n",
    "\n",
    "print(straight_line_distance, ellipsoid_distance)"
   ]
  },
  {
   "cell_type": "markdown",
   "metadata": {
    "id": "gqkPVjrkA2ZN"
   },
   "source": [
    "## Exercise\n",
    "\n",
    "Repeat the distance calculation exercise from the previous module but perform the calculation using the geopy library."
   ]
  },
  {
   "cell_type": "code",
   "execution_count": null,
   "metadata": {
    "id": "FQceLGGLA2ZN"
   },
   "outputs": [],
   "source": [
    "from geopy import distance\n",
    "\n",
    "# city1 = (lat1, lng1)\n",
    "# city2 = (lat2, lng2)\n",
    "# call the geopy distance function and print the great circle and ellipsoid distance"
   ]
  },
  {
   "cell_type": "markdown",
   "metadata": {
    "id": "aysj70NCA2ZN"
   },
   "source": [
    "----"
   ]
  }
 ],
 "metadata": {
  "colab": {
   "provenance": []
  },
  "kernelspec": {
   "display_name": "Python 3",
   "language": "python",
   "name": "python3"
  },
  "language_info": {
   "codemirror_mode": {
    "name": "ipython",
    "version": 3
   },
   "file_extension": ".py",
   "mimetype": "text/x-python",
   "name": "python",
   "nbconvert_exporter": "python",
   "pygments_lexer": "ipython3",
   "version": "3.8.5"
  }
 },
 "nbformat": 4,
 "nbformat_minor": 0
}
