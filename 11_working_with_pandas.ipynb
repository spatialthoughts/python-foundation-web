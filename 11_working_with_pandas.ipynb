{
 "cells": [
  {
   "cell_type": "markdown",
   "metadata": {
    "id": "F7l7EPxWoDzd"
   },
   "source": [
    "# Working with Pandas\n",
    "\n",
    "![](images/python_foundation/pandas-logo.png)\n",
    "\n",
    "Pandas is a powerful library for working with data. Pandas provides fast and easy functions for reading data from files, and analyzing it.\n",
    "\n",
    "Pandas is based on another library called `numpy` - which is widely used in scientific computing. Pandas extends `numpy` and provides new data types such as **Index**, **Series** and **DataFrames**.\n",
    "\n",
    "Pandas implementation is very fast and efficient - so compared to other methods of data processing - using `pandas` results is simpler code and quick processing. We will now re-implement our code for reading a file and computing distance using Pandas."
   ]
  },
  {
   "cell_type": "markdown",
   "metadata": {
    "id": "lrcVw_Z4oD0H"
   },
   "source": [
    "By convention, `pandas` is commonly imported as `pd`"
   ]
  },
  {
   "cell_type": "code",
   "execution_count": null,
   "metadata": {
    "id": "edaAS0iJoD0J"
   },
   "outputs": [],
   "source": [
    "import pandas as pd"
   ]
  },
  {
   "cell_type": "markdown",
   "metadata": {
    "id": "VZFQ_DdioD0P"
   },
   "source": [
    "## Reading Files"
   ]
  },
  {
   "cell_type": "code",
   "execution_count": null,
   "metadata": {
    "id": "2HY8u3vcoD0Q"
   },
   "outputs": [],
   "source": [
    "import os\n",
    "data_pkg_path = 'data'\n",
    "filename = 'worldcities.csv'\n",
    "path = os.path.join(data_pkg_path, filename)"
   ]
  },
  {
   "cell_type": "markdown",
   "metadata": {
    "id": "JEYbAsvLoD0S"
   },
   "source": [
    "A **DataFrame** is the most used Pandas object. You can think of a DataFrame being equivalent to a Spreadsheet or an Attribute Table of a GIS layer. \n",
    "\n",
    "Pandas provide easy methods to directly read files into a DataFrame. You can use methods such as `read_csv()`, `read_excel()`, `read_hdf()` and so forth to read a variety of formats. Here we will read the `worldcitites.csv` file using `read_csv()` method."
   ]
  },
  {
   "cell_type": "code",
   "execution_count": null,
   "metadata": {
    "id": "p4Y_A7HkoD0U"
   },
   "outputs": [],
   "source": [
    "df = pd.read_csv(path)"
   ]
  },
  {
   "cell_type": "code",
   "execution_count": null,
   "metadata": {
    "id": "3qbqIXMKoD0V"
   },
   "outputs": [],
   "source": [
    "df"
   ]
  },
  {
   "cell_type": "markdown",
   "metadata": {
    "id": "2-6CoAy2oD0W"
   },
   "source": [
    "Once the file is read and a DataFrame object is created, we can inspect it using the `head()` method. "
   ]
  },
  {
   "cell_type": "code",
   "execution_count": null,
   "metadata": {
    "id": "gCKPFOVooD0X"
   },
   "outputs": [],
   "source": [
    "print(df.head())"
   ]
  },
  {
   "cell_type": "markdown",
   "metadata": {
    "id": "UVdHOjGioD0Y"
   },
   "source": [
    "There is also a `info()` method that shows basic information about the dataframe, such as number of rows/columns and data types of each column."
   ]
  },
  {
   "cell_type": "code",
   "execution_count": null,
   "metadata": {
    "id": "pvIB1OG1oD0Y"
   },
   "outputs": [],
   "source": [
    "print(df.info())"
   ]
  },
  {
   "cell_type": "markdown",
   "metadata": {
    "id": "gK-Z-WJroD0Z"
   },
   "source": [
    "## Filtering Data\n",
    "\n",
    "Pandas have many ways of selecting and filtered data from a dataframe. We will now see how to use the [Boolean Filtering](https://pandas.pydata.org/pandas-docs/stable/user_guide/indexing.html#boolean-indexing) to filter the dataframe to rows that match a condition."
   ]
  },
  {
   "cell_type": "code",
   "execution_count": null,
   "metadata": {
    "id": "xgP0uqOToD0a"
   },
   "outputs": [],
   "source": [
    "home_country = 'India'\n",
    "filtered = df[df['country'] == home_country]\n",
    "filtered"
   ]
  },
  {
   "cell_type": "code",
   "execution_count": null,
   "metadata": {
    "id": "fGoPyHBgoD0a"
   },
   "outputs": [],
   "source": [
    "filtered = df[df['population'] > 1000000]\n",
    "filtered"
   ]
  },
  {
   "cell_type": "markdown",
   "metadata": {
    "id": "Fyr9EbnfoD0b"
   },
   "source": [
    "Filtered dataframe is a just view of the original data and we cannot make changes to it. We can save the filtered view to a new dataframe using the `copy()` method."
   ]
  },
  {
   "cell_type": "code",
   "execution_count": null,
   "metadata": {
    "id": "e87IA79_oD0c"
   },
   "outputs": [],
   "source": [
    "country_df = df[df['country'] == home_country].copy()"
   ]
  },
  {
   "cell_type": "code",
   "execution_count": null,
   "metadata": {
    "id": "6ySO46BqoD0d"
   },
   "outputs": [],
   "source": [
    "home_city = 'Mumbai'\n",
    "city_df = df[df['city'] == home_city].iloc[0]['lng']\n",
    "city_df"
   ]
  },
  {
   "cell_type": "code",
   "execution_count": null,
   "metadata": {
    "id": "isvwJww_oD0d"
   },
   "outputs": [],
   "source": [
    "# iloc[]"
   ]
  },
  {
   "cell_type": "code",
   "execution_count": null,
   "metadata": {
    "id": "S6qYsA71oD0e"
   },
   "outputs": [],
   "source": [
    "home_city = 'Bengaluru'\n",
    "\n",
    "country_df[country_df['city_ascii'] == home_city].iloc[0]['lng']"
   ]
  },
  {
   "cell_type": "markdown",
   "metadata": {
    "id": "TbdKjqRjoD0e"
   },
   "source": [
    "To locate a particular row or column from a dataframe, Pandas providea `loc[]` and `iloc[]` methods - that allows you to *locate* particular slices of data. Learn about [different indexing methods](https://pandas.pydata.org/pandas-docs/stable/user_guide/indexing.html#different-choices-for-indexing) in Pandas. Here we can use `iloc[]` to find the row matching the `home_city` name. Since `iloc[]` uses index, the *0* here refers to the first row."
   ]
  },
  {
   "cell_type": "code",
   "execution_count": null,
   "metadata": {
    "id": "Ah9CDPUcoD0f"
   },
   "outputs": [],
   "source": [
    "home_city = 'Bengaluru'\n",
    "filtered = country_df[country_df['city_ascii'] == home_city]\n",
    "print(filtered.iloc[0])"
   ]
  },
  {
   "cell_type": "markdown",
   "metadata": {
    "id": "q4UOBr3voD0i"
   },
   "source": [
    "Now that we have filtered down the data to a single row, we can select individual column values using column names."
   ]
  },
  {
   "cell_type": "code",
   "execution_count": null,
   "metadata": {
    "id": "cds8lGXLoD0i"
   },
   "outputs": [],
   "source": [
    "home_city_coordinates = (filtered.iloc[0]['lat'], filtered.iloc[0]['lng'])\n",
    "print(home_city_coordinates)"
   ]
  },
  {
   "cell_type": "markdown",
   "metadata": {
    "id": "8OqFEJOLoD0k"
   },
   "source": [
    "## Performing calculations\n",
    "\n",
    "Let's learn how to do calculations on a dataframe. We can iterate over each row and perform some calculations. But pandas provide a much more efficient way. You can use the `apply()` method to run a function on each row. This is fast and makes it easy to complex computations on large datasets.\n",
    "\n",
    "The `apply()` function takes 2 arguments. A function to apply, and the axis along which to apply it. `axis=0` means it will be applied to columns and `axis=1` means it will apply to rows.\n",
    "\n",
    "![](https://github.com/spatialthoughts/courses/blob/master/code/python_foundation/images/python_foundation/pandas_axis.png?raw=1)"
   ]
  },
  {
   "cell_type": "code",
   "execution_count": null,
   "metadata": {
    "id": "rWffqS-hoD0l"
   },
   "outputs": [],
   "source": [
    "from geopy import distance\n",
    "\n",
    "def calculate_distance(row):\n",
    "    city_coordinates = (row['lat'], row['lng'])\n",
    "    return distance.geodesic(city_coordinates, home_city_coordinates).km\n",
    "\n",
    "result = country_df.apply(calculate_distance, axis=1)\n",
    "print(result)"
   ]
  },
  {
   "cell_type": "markdown",
   "metadata": {
    "id": "MmfEHMsDoD0m"
   },
   "source": [
    "We can add these results to the dataframe by simply assigning the result to a new column."
   ]
  },
  {
   "cell_type": "code",
   "execution_count": null,
   "metadata": {
    "id": "TM6Rf_BkoD0m"
   },
   "outputs": [],
   "source": [
    "country_df['distance'] = result\n",
    "print(country_df)"
   ]
  },
  {
   "cell_type": "markdown",
   "metadata": {
    "id": "3klAKlBToD0n"
   },
   "source": [
    "We are done with our analysis and ready to save the results. We can further filter the results to only certain columns."
   ]
  },
  {
   "cell_type": "code",
   "execution_count": null,
   "metadata": {
    "id": "r-1ULEl7oD0n"
   },
   "outputs": [],
   "source": [
    "filtered = country_df[['city_ascii','distance']]\n",
    "print(filtered)"
   ]
  },
  {
   "cell_type": "markdown",
   "metadata": {
    "id": "392s3zXKoD0u"
   },
   "source": [
    "Let's rename the `city_ascii` column to give it a more readable name."
   ]
  },
  {
   "cell_type": "code",
   "execution_count": null,
   "metadata": {
    "id": "_Weu8VN3oD0u"
   },
   "outputs": [],
   "source": [
    "filtered = filtered.rename(columns = {'city_ascii': 'city'})\n",
    "print(filtered)"
   ]
  },
  {
   "cell_type": "markdown",
   "metadata": {
    "id": "RKfAJq8KoD0v"
   },
   "source": [
    "Now that we have added filtered the original data and computed the distance for all cities, we can save the resulting dataframe to a file. Similar to read methods, Pandas have several write methods, such as `to_csv()`, `to_excel()` etc.\n",
    "\n",
    "Here we will use the `to_csv()` method to write a CSV file. Pandas assigns an index column (unique integer values) to a dataframe by default. We specify `index=False` so that this index is not added to our output."
   ]
  },
  {
   "cell_type": "code",
   "execution_count": null,
   "metadata": {
    "id": "qEK2rDbPoD0v"
   },
   "outputs": [],
   "source": [
    "output_filename = 'cities_distance_pandas.csv'\n",
    "output_dir = 'output'\n",
    "output_path = os.path.join(output_dir, output_filename)\n",
    "filtered.to_csv(output_path, index=False)\n",
    "print('Successfully written output file at {}'.format(output_path))"
   ]
  },
  {
   "cell_type": "markdown",
   "metadata": {
    "id": "kBKgj5LMoD0w"
   },
   "source": [
    "## Exercise\n",
    "\n",
    "You will notice that the output file contains a row with the `home_city` as well. Modify the `filtered` dataframe to remove this row and write the results to a file.\n",
    "\n",
    "Hint: Use the Boolean filtering method we learnt earlier to select rows that do not match the `home_city`."
   ]
  },
  {
   "cell_type": "code",
   "execution_count": null,
   "metadata": {
    "id": "4ed2PpHCoGI5"
   },
   "outputs": [],
   "source": [
    "import os\n",
    "from geopy import distance\n",
    "import pandas as pd\n",
    "\n",
    "def calculate_distance(row):\n",
    "    city_coordinates = (row['lat'], row['lng'])\n",
    "    return distance.geodesic(city_coordinates, home_city_coordinates).km\n",
    "\n",
    "data_pkg_path = 'data'\n",
    "filename = 'worldcities.csv'\n",
    "path = os.path.join(data_pkg_path, filename)\n",
    "df = pd.read_csv(path)\n",
    "\n",
    "home_country = 'India'\n",
    "home_city = 'Bengaluru'\n",
    "\n",
    "country_df = df[df['country'] == home_country].copy()\n",
    "filtered = country_df[country_df['city_ascii'] == home_city]\n",
    "home_city_coordinates = (filtered.iloc[0]['lat'], filtered.iloc[0]['lng'])\n",
    "\n",
    "country_df['distance'] = country_df.apply(calculate_distance, axis=1)\n",
    "filtered = country_df[['city_ascii','distance']]\n",
    "filtered = filtered.rename(columns = {'city_ascii': 'city'})\n",
    "filtered"
   ]
  },
  {
   "cell_type": "markdown",
   "metadata": {
    "id": "nJD9FGZPoD0w"
   },
   "source": [
    "----"
   ]
  }
 ],
 "metadata": {
  "colab": {
   "provenance": []
  },
  "kernelspec": {
   "display_name": "Python 3 (ipykernel)",
   "language": "python",
   "name": "python3"
  },
  "language_info": {
   "codemirror_mode": {
    "name": "ipython",
    "version": 3
   },
   "file_extension": ".py",
   "mimetype": "text/x-python",
   "name": "python",
   "nbconvert_exporter": "python",
   "pygments_lexer": "ipython3",
   "version": "3.11.0"
  }
 },
 "nbformat": 4,
 "nbformat_minor": 4
}
