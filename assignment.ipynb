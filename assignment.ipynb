{
  "nbformat": 4,
  "nbformat_minor": 0,
  "metadata": {
    "colab": {
      "provenance": [],
      "authorship_tag": "ABX9TyOOBewXp/MogSBBZ2jQd2Vf"
    },
    "kernelspec": {
      "name": "python3",
      "display_name": "Python 3"
    },
    "language_info": {
      "name": "python"
    }
  },
  "cells": [
    {
      "cell_type": "markdown",
      "source": [
        "# Assignment\n",
        "\n",
        "Your assignment is to geocode the addresses given below using [GeoPy](https://geopy.readthedocs.io/en/stable/). This assignment is designed to help you practice your coding skills learnt in the course so far."
      ],
      "metadata": {
        "id": "ErX4L9CVntt2"
      }
    },
    {
      "cell_type": "markdown",
      "source": [
        "## Part 1\n",
        "\n",
        "You have been given a list containing 5 tuples of place names along with their address. You need to use the [Nominatim](https://geopy.readthedocs.io/en/stable/#module-geopy.geocoders) geocoder and obtain the latitude and longitude of each address."
      ],
      "metadata": {
        "id": "RmZLGvLaoGgL"
      }
    },
    {
      "cell_type": "code",
      "execution_count": null,
      "metadata": {
        "id": "WGNIodilnc9I"
      },
      "outputs": [],
      "source": [
        "# List of Hurricane Evacuation Centers in New York City with Addresses\n",
        "# Each item is a tuple with the name of the center and its address\n",
        "locations = [\n",
        "    ('Norman Thomas HS (ECF)', '111 E 33rd St, NYC, New York'),\n",
        "    ('Midtown East Campus', '233 E 56th St, NYC, New York'),\n",
        "    ('Louis D. Brandeis HS', '145 W 84th St, NYC, New York'),\n",
        "    ('Martin Luther King, Jr. HS', '122 Amsterdam Avenue, NYC, New York'),\n",
        "    ('P.S. 48', '4360 Broadway, NYC, New York')\n",
        "]"
      ]
    },
    {
      "cell_type": "markdown",
      "source": [
        "The expected output should be as follows\n",
        "\n",
        "```\n",
        "[('Norman Thomas HS (ECF)', 40.7462177, -73.9809816),\n",
        " ('Midtown East Campus', 40.65132465, -73.92421646290632),\n",
        " ('Louis D. Brandeis HS', 40.7857432, -73.9742029),\n",
        " ('Martin Luther King, Jr. HS', 40.7747751, -73.9853689),\n",
        " ('P.S. 48', 40.8532731, -73.9338592)]\n",
        "```"
      ],
      "metadata": {
        "id": "WfjGrQoY_Jo4"
      }
    },
    {
      "cell_type": "markdown",
      "source": [
        "## Part 2\n",
        "\n",
        "Get a list of 5 addresses in your city and geocode them.\n",
        "\n",
        "You can use Nominatim geocoder. Nominatim is based on OpenStreetMap and the it's geocoding quality varies from country to country. You can visit https://openstreetmap.org/ and search for your address. It uses Nominatim geocoder so you can check if your address is suitable for this service.\n",
        "\n",
        "Many countries of the world do not have structured addresses and use informal or landmark based addresses. There are usually very difficult to geocode accurately. If you are trying to geocode such addresses, your best bet is to truncate the address at the street or locality level.\n",
        "\n",
        "For example, an address like following will fail to geocode using Nominatim\n",
        "\n",
        "```\n",
        "Spatial Thoughts LLP,\n",
        "FF 105, Aaradhya Complex,\n",
        "Gala Gymkhana Road, Bopal,\n",
        "Ahmedabad, India\n",
        "```\n",
        "\n",
        "Instead, you may try to geocode the following\n",
        "\n",
        "```\n",
        "Gala Gymkhana Road, Bopal, Ahmedabad, India\n",
        "```\n"
      ],
      "metadata": {
        "id": "X-hM8XGgAkx5"
      }
    },
    {
      "cell_type": "markdown",
      "source": [
        "## Part 3\n",
        "\n",
        "Bonus Assignment (This part is optional)\n",
        "\n",
        "Use an alternative geocoding service such as HERE/Bing/Google or a country-specific service such as DataBC. Note that most commercial geocoding services will require signing-up for an API key and may also require setting up a billing account."
      ],
      "metadata": {
        "id": "Dw5Y3V1fC4-N"
      }
    }
  ]
}