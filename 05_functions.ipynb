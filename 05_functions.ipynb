{
 "cells": [
  {
   "cell_type": "markdown",
   "metadata": {
    "id": "wHNTmeaqlc7O"
   },
   "source": [
    "# Functions\n",
    "\n",
    "A function is a block of code that takes one or more *inputs*, does some processing on them and returns one or more *outputs*. The code within the function runs only when it is called.\n",
    "\n",
    "A funtion is defined using the `def` keyword\n",
    "\n",
    "```\n",
    "def my_function():\n",
    "    ....\n",
    "    ....\n",
    "    return something\n",
    "```\n",
    "\n",
    "Functions are useful because they allow us to capture the logic of our code and we can run it with differnt inputs without having to write the same code again and again."
   ]
  },
  {
   "cell_type": "code",
   "execution_count": null,
   "metadata": {
    "id": "ibP0U1GLlc7R"
   },
   "outputs": [],
   "source": [
    "def greet(name):\n",
    "    return 'Hello ' + name\n",
    "\n",
    "print(greet('World'))"
   ]
  },
  {
   "cell_type": "markdown",
   "metadata": {
    "id": "y-Qdo-iNlc7S"
   },
   "source": [
    "Functions can take multiple arguments. Let's write a function to convert coordinates from degrees, minutes, seconds to decimal degrees. This conversion is needed quite often when working with data collected from GPS devices.\n",
    "\n",
    "- 1 degree is equal to 60 minutes\n",
    "- 1 minute is equal to 60 seconds (3600 seconds)\n",
    "\n",
    "To calculate decimal degrees, we can use the formula below:\n",
    "\n",
    "If degrees are positive:\n",
    "\n",
    "`Decimal Degrees = degrees + (minutes/60) + (seconds/3600)`\n",
    "\n",
    "If degrees are negative\n",
    "\n",
    "`Decimal Degrees = degrees - (minutes/60) - (seconds/3600)`"
   ]
  },
  {
   "cell_type": "code",
   "execution_count": null,
   "metadata": {
    "id": "sRrYfseslc7S"
   },
   "outputs": [],
   "source": [
    "def dms_to_decimal(degrees, minutes, seconds):\n",
    "    if degrees < 0:\n",
    "        result = degrees - minutes/60 - seconds/3600\n",
    "    else:\n",
    "        result = degrees + minutes/60 + seconds/3600\n",
    "    return result"
   ]
  },
  {
   "cell_type": "code",
   "execution_count": null,
   "metadata": {
    "id": "iqqY9TU-lc7S"
   },
   "outputs": [],
   "source": [
    "output = dms_to_decimal(10, 10, 10)\n",
    "print(output)"
   ]
  },
  {
   "cell_type": "markdown",
   "metadata": {
    "id": "x1XukY0llc7T"
   },
   "source": [
    "## Exercise\n",
    "\n",
    "Given a coordinate string with value in degree, minutes and seconds, convert it to decimal degrees by calling the `dms_to_decimal` function."
   ]
  },
  {
   "cell_type": "code",
   "execution_count": null,
   "metadata": {
    "id": "rxxIqq8Jlc7T"
   },
   "outputs": [],
   "source": [
    "def dms_to_decimal(degrees, minutes, seconds):\n",
    "    if degrees < 0:\n",
    "        result = degrees - minutes/60 - seconds/3600\n",
    "    else:\n",
    "        result = degrees + minutes/60 + seconds/3600\n",
    "    return result\n",
    "\n",
    "coordinate = '''37° 46' 26.2992\"'''\n",
    "\n",
    "# Add the code below to extract the parts from the coordinate string,\n",
    "# call the function to convert to decimal degrees and print the result\n",
    "# The expected answer is 37.773972"
   ]
  },
  {
   "cell_type": "code",
   "execution_count": null,
   "metadata": {
    "id": "c403EGDGlc7T"
   },
   "outputs": [],
   "source": [
    "# Hint: Converting strings to numbers\n",
    "# When you extract the parts from the coordinate string, they are strings\n",
    "# You will need to use the built-in int() / float() functions to\n",
    "# convert them to numbers\n",
    "x = '25'\n",
    "print(x, type(x))\n",
    "y = int(x)\n",
    "print(y, type(y))"
   ]
  },
  {
   "cell_type": "markdown",
   "metadata": {
    "id": "cq_of8Q3lg88"
   },
   "source": [
    "*Challenge*: Once you are done with the exercise, you can attempt this challenge. Can you implement a function `decimal_to_dms()` which does the reverse operation? i.e. convert decimal degrees to degrees,minutes and seconds?"
   ]
  },
  {
   "cell_type": "markdown",
   "metadata": {
    "id": "A-WTq1xhlc7U"
   },
   "source": [
    "----"
   ]
  }
 ],
 "metadata": {
  "colab": {
   "provenance": []
  },
  "kernelspec": {
   "display_name": "Python 3",
   "language": "python",
   "name": "python3"
  },
  "language_info": {
   "codemirror_mode": {
    "name": "ipython",
    "version": 3
   },
   "file_extension": ".py",
   "mimetype": "text/x-python",
   "name": "python",
   "nbconvert_exporter": "python",
   "pygments_lexer": "ipython3",
   "version": "3.9.6"
  }
 },
 "nbformat": 4,
 "nbformat_minor": 0
}
