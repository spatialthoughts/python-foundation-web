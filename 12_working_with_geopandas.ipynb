{
 "cells": [
  {
   "cell_type": "markdown",
   "metadata": {
    "id": "b9mNP6M_cs7e"
   },
   "source": [
    "# Working with Geopandas"
   ]
  },
  {
   "cell_type": "markdown",
   "metadata": {
    "id": "QWZBMrG9cs7j"
   },
   "source": [
    "![](https://github.com/spatialthoughts/python-foundation-web/blob/master/images/python_foundation/geopandas.png?raw=1)\n",
    "\n",
    "GeoPandas extends the Pandas library to enable spatial operations. It provides new data types such as **GeoDataFrame** and **GeoSeries** which are subclasses of Pandas **DataFrame** and **Series** and enables efficient vector data processing in Python.\n",
    "\n",
    "\n",
    "GeoPandas make use of many other widely used spatial libraries - but it provides an interface similar to Pandas that make it intuitive to use it with spatial analysis. GeoPandas is built on top of the following libraries that allow it to be spatially aware.\n",
    "\n",
    "- [Shapely](https://shapely.readthedocs.io/en/latest/manual.html) for geometric operations (i.e. buffer, intersections etc.)\n",
    "- [PyProj](https://pyproj4.github.io/pyproj/stable/index.html) for working with projections\n",
    "- [Fiona](https://pypi.org/project/Fiona/) for file input and output, which itself is based on the widely used [GDAL/OGR](https://gdal.org/) library\n",
    "\n",
    "We will carry out a geoprocessing task that shows various features of this library and show how to do geo data processing in Python. The task is to take a roads data layer from OpenStreetMap and compute the total length of National Highways for each district in a state. The problem is described in detail in my [Advanced QGIS](https://courses.spatialthoughts.com/advanced-qgis.html#exercise-find-the-length-of-national-highways-in-a-state) course and show the steps needed to perform this analysis in QGIS. We will replicate this example in Python.\n",
    "\n",
    "![](images/python_foundation/karnataka.png)\n"
   ]
  },
  {
   "cell_type": "markdown",
   "metadata": {
    "id": "4HAFqKL3cs7k"
   },
   "source": [
    "By convention, `geopandas` is commonly imported as `gpd`"
   ]
  },
  {
   "cell_type": "code",
   "execution_count": null,
   "metadata": {
    "id": "n9H4fCijcs7l"
   },
   "outputs": [],
   "source": [
    "import geopandas as gpd"
   ]
  },
  {
   "cell_type": "markdown",
   "metadata": {
    "id": "-I8UKrjUcs7l"
   },
   "source": [
    "## Reading Spatial Data"
   ]
  },
  {
   "cell_type": "code",
   "execution_count": null,
   "metadata": {
    "id": "FkfBmKMXcs7m"
   },
   "outputs": [],
   "source": [
    "import os\n",
    "data_pkg_path = 'data'\n",
    "filename = 'karnataka.gpkg'\n",
    "path = os.path.join(data_pkg_path, filename)"
   ]
  },
  {
   "cell_type": "markdown",
   "metadata": {
    "id": "lwRkxhPJcs7m"
   },
   "source": [
    "GeoPandas has a `read_file()` method that is able to open a wide variety of vector datasets, including zip files. Here we will open the GeoPackage `karnataka.gpkg` and read a layer called `karnataka_major_roads`. The result of the read method is a **GeoDataFrame**. "
   ]
  },
  {
   "cell_type": "code",
   "execution_count": null,
   "metadata": {
    "id": "HsjIess7cs7m"
   },
   "outputs": [],
   "source": [
    "roads_gdf = gpd.read_file(path, layer='karnataka_major_roads')\n",
    "roads_gdf.info()"
   ]
  },
  {
   "cell_type": "markdown",
   "metadata": {
    "id": "yo2EWL0Acs7n"
   },
   "source": [
    "A GeoDataFrame contains a special column called *geometry*. All spatial operations on the GeoDataFrame are applied to the geomety column. The geometry column can be accessed using the `geometry` attribute."
   ]
  },
  {
   "cell_type": "code",
   "execution_count": null,
   "metadata": {
    "id": "1MT7qDymcs7n"
   },
   "outputs": [],
   "source": [
    "roads_gdf.geometry"
   ]
  },
  {
   "cell_type": "markdown",
   "metadata": {
    "id": "A31wEP7Tcs7n"
   },
   "source": [
    "## Filtering Data\n",
    "\n",
    "One can use the standard Pandas filtering methods to select a subset of the GeoDataFrame. In addition, GeoPandas also provide way to subset the data based on a bounding box with the [`cx[]` indexer](https://geopandas.readthedocs.io/en/latest/indexing.html).\n",
    "\n",
    "For our analysis, we need to apply a filter to extract only the road segments where the `ref` attribute starts with **'NH'** - indicating a national highway. We can apply boolean filtering using Panda's `str.match()` method with a regular expression."
   ]
  },
  {
   "cell_type": "code",
   "execution_count": null,
   "metadata": {
    "id": "8Wznn0g5cs7o"
   },
   "outputs": [],
   "source": [
    "filtered = roads_gdf[roads_gdf['ref'].str.match('^NH') == True]\n",
    "filtered.head()"
   ]
  },
  {
   "cell_type": "markdown",
   "metadata": {
    "id": "5PVTzguucs7o"
   },
   "source": [
    "## Working with Projections\n",
    "\n",
    "Dealing with projetions is a key aspect of working with spatial data. GeoPandas uses the `pyproj` library to assign and manage projections. Each GeoDataFrame as a `crs` attribute that contains the projection info. Our source dataset is in EPSG:4326 WGS84 CRS."
   ]
  },
  {
   "cell_type": "code",
   "execution_count": null,
   "metadata": {
    "id": "d8MxEIlZcs7o"
   },
   "outputs": [],
   "source": [
    "filtered.crs"
   ]
  },
  {
   "cell_type": "markdown",
   "metadata": {
    "id": "ki7gfot-cs7o"
   },
   "source": [
    "Since our task is to compute line lengths, we need to use a Projected CRS. We can use the `to_crs()` method to reproject the GeoDataFrame."
   ]
  },
  {
   "cell_type": "code",
   "execution_count": null,
   "metadata": {
    "id": "bE5CQktGcs7o"
   },
   "outputs": [],
   "source": [
    "roads_reprojected = filtered.to_crs('EPSG:32643')\n",
    "roads_reprojected.crs"
   ]
  },
  {
   "cell_type": "markdown",
   "metadata": {
    "id": "nMQDPwZ4cs7o"
   },
   "source": [
    "Now that the layer has been reprojected, we can calculate the length of each geometry using the `length` attribute. The result would be in meters. We can add the line lengths in a new column named `length`."
   ]
  },
  {
   "cell_type": "code",
   "execution_count": null,
   "metadata": {
    "id": "dZX8M3jycs7p"
   },
   "outputs": [],
   "source": [
    "roads_reprojected['length'] = roads_reprojected['geometry'].length"
   ]
  },
  {
   "cell_type": "markdown",
   "metadata": {
    "id": "Gq7UD5fvcs7p"
   },
   "source": [
    "We can apply statistical operations on a DataFrame columns. Here we can compute the total length of national highways in the state by calling the `sum()` method."
   ]
  },
  {
   "cell_type": "code",
   "execution_count": null,
   "metadata": {
    "id": "THlc2M7zcs7p"
   },
   "outputs": [],
   "source": [
    "total_length = roads_reprojected['length'].sum()\n",
    "print('Total length of national highways in the state is {} KM'.format(total_length/1000))"
   ]
  },
  {
   "cell_type": "markdown",
   "metadata": {
    "id": "P-q89v6ecs7q"
   },
   "source": [
    "## Performing Spatial joins\n",
    "\n",
    "There are two ways to combine datasets in geopandas – table joins and spatial joins. For our task, we need information about which district each road segments belongs to. This can be achived using another spatial layer for the districts and doing a spatial join to transfer the attributes of the district layer to the matching road segment.\n",
    "\n",
    "The `karnataka.gpkg` contains a layer called `karnataka_districts` with the district boundaries and names."
   ]
  },
  {
   "cell_type": "code",
   "execution_count": null,
   "metadata": {
    "id": "etI1ZkWzcs7q"
   },
   "outputs": [],
   "source": [
    "districts_gdf = gpd.read_file(path, layer='karnataka_districts')\n",
    "districts_gdf.head()"
   ]
  },
  {
   "cell_type": "markdown",
   "metadata": {
    "id": "kC3kY_Nxcs7q"
   },
   "source": [
    "Before joining this layer to the roads, we must reproject it to match the CRS of the roads layer."
   ]
  },
  {
   "cell_type": "code",
   "execution_count": null,
   "metadata": {
    "id": "iHzr4Pqrcs7q"
   },
   "outputs": [],
   "source": [
    "districts_reprojected = districts_gdf.to_crs('EPSG:32643')"
   ]
  },
  {
   "cell_type": "markdown",
   "metadata": {
    "id": "fL4mzFc-cs7q"
   },
   "source": [
    "A spatial join is performed using the `sjoin()` method. It takes 2 core arguments.\n",
    "\n",
    "- `predicate`: The spatial predicate to decdie which objects to join. Options are *intersects*, *within* and *contains*.\n",
    "- `how`: The type of join to perform. Options are *left*, *right* and *inner*.\n",
    "\n",
    "For our task, we can do a *left* join and add attributes of the district that *intersect* the road.\n"
   ]
  },
  {
   "cell_type": "code",
   "execution_count": null,
   "metadata": {
    "id": "7L59ChDvcs7q"
   },
   "outputs": [],
   "source": [
    "joined = gpd.sjoin(roads_reprojected, districts_reprojected, how='left', predicate='intersects')\n",
    "joined.head()"
   ]
  },
  {
   "cell_type": "markdown",
   "metadata": {
    "id": "ZdSzQg3Rcs7q"
   },
   "source": [
    "## Group Statistics\n",
    "\n",
    "The resulting geodataframe now has the matching column from the intersecting district feature. We can now sum the length of the roads and group them by districts. This type of *Group Statistics* is performed using Panda's `group_by()` method."
   ]
  },
  {
   "cell_type": "code",
   "execution_count": null,
   "metadata": {
    "id": "iXq7sD40cs7r"
   },
   "outputs": [],
   "source": [
    "results = joined.groupby('DISTRICT')['length'].sum()/1000\n",
    "results"
   ]
  },
  {
   "cell_type": "markdown",
   "metadata": {
    "id": "zVh9G8i1cs7r"
   },
   "source": [
    "The result of the `group_by()` method is a Pandas *Series*. It can be saved to a CSV file using the `to_csv()` method."
   ]
  },
  {
   "cell_type": "code",
   "execution_count": null,
   "metadata": {
    "id": "ed0laY41cs7r"
   },
   "outputs": [],
   "source": [
    "output_filename = 'national_highways_by_districts.csv'\n",
    "output_dir = 'output'\n",
    "output_path = os.path.join(output_dir, output_filename)\n",
    "results.to_csv(output_path)\n",
    "print('Successfully written output file at {}'.format(output_path))"
   ]
  },
  {
   "cell_type": "markdown",
   "metadata": {
    "id": "yxiEmqgNcs7r"
   },
   "source": [
    "## Exercise\n",
    "\n",
    "Before writing the output to the file, round the distance numbers to a whole number."
   ]
  },
  {
   "cell_type": "markdown",
   "metadata": {
    "id": "1moMVRh5cs7r"
   },
   "source": [
    "----"
   ]
  }
 ],
 "metadata": {
  "colab": {
   "provenance": []
  },
  "kernelspec": {
   "display_name": "Python 3 (ipykernel)",
   "language": "python",
   "name": "python3"
  },
  "language_info": {
   "codemirror_mode": {
    "name": "ipython",
    "version": 3
   },
   "file_extension": ".py",
   "mimetype": "text/x-python",
   "name": "python",
   "nbconvert_exporter": "python",
   "pygments_lexer": "ipython3",
   "version": "3.13.1"
  }
 },
 "nbformat": 4,
 "nbformat_minor": 4
}
