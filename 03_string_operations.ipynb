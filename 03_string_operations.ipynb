{
 "cells": [
  {
   "cell_type": "markdown",
   "metadata": {
    "id": "6z5X30-rC8rq"
   },
   "source": [
    "# String Operations"
   ]
  },
  {
   "cell_type": "code",
   "execution_count": null,
   "metadata": {
    "id": "umONn5crC8rs"
   },
   "outputs": [],
   "source": [
    "city = 'San Francisco'\n",
    "print(len(city))"
   ]
  },
  {
   "cell_type": "code",
   "execution_count": null,
   "metadata": {
    "id": "-ZGniXk-C8rs"
   },
   "outputs": [],
   "source": [
    "print(city.split())"
   ]
  },
  {
   "cell_type": "code",
   "execution_count": null,
   "metadata": {
    "id": "v3bMdQMzC8rs"
   },
   "outputs": [],
   "source": [
    "print(city.upper())"
   ]
  },
  {
   "cell_type": "code",
   "execution_count": null,
   "metadata": {
    "id": "w9-nP97GC8rt"
   },
   "outputs": [],
   "source": [
    "city[0]"
   ]
  },
  {
   "cell_type": "code",
   "execution_count": null,
   "metadata": {
    "id": "dRfwMb95C8rt"
   },
   "outputs": [],
   "source": [
    "city[-1]"
   ]
  },
  {
   "cell_type": "code",
   "execution_count": null,
   "metadata": {
    "id": "RfG6zh8nC8rt"
   },
   "outputs": [],
   "source": [
    "city[0:3]"
   ]
  },
  {
   "cell_type": "code",
   "execution_count": null,
   "metadata": {
    "id": "E3k_zbDMC8rt"
   },
   "outputs": [],
   "source": [
    "city[4:]"
   ]
  },
  {
   "cell_type": "markdown",
   "metadata": {
    "id": "syxB-e6WC8rt"
   },
   "source": [
    "## Escaping characters\n",
    "\n",
    "Certain characters are special since they are by Python language itself. For example, the quote character **'** is used to define a string. What do you do if your string contains a quote character?\n",
    "\n",
    "In Python strings, the backslash **\\\\** is a special character, also called the **escape** character. Prefixing any character with a backslash makes it an ordinary character. (Hint: Prefixing a backslash with a backshalsh makes it ordinary too!)\n",
    "\n",
    "It is also used for representing certain whitespace characters, \\\\n is a newline, \\\\t is a tab etc.\n",
    "\n",
    "Remove the # from the cell below and run it."
   ]
  },
  {
   "cell_type": "code",
   "execution_count": null,
   "metadata": {
    "id": "tuaZfgiuC8rt"
   },
   "outputs": [],
   "source": [
    "# my_string = 'It's a beautiful day!'"
   ]
  },
  {
   "cell_type": "markdown",
   "metadata": {
    "id": "6kgdhOVZC8ru"
   },
   "source": [
    "We can fix the error by espacing the single quote within the string."
   ]
  },
  {
   "cell_type": "code",
   "execution_count": null,
   "metadata": {
    "id": "DaoaZVoTC8ru"
   },
   "outputs": [],
   "source": [
    "my_string = 'It\\'s a beautiful day!'\n",
    "print(my_string)"
   ]
  },
  {
   "cell_type": "markdown",
   "metadata": {
    "id": "j1DL6dEhC8ru"
   },
   "source": [
    "Alternatively, you can also use double-quotes if your string contains a single-quote."
   ]
  },
  {
   "cell_type": "code",
   "execution_count": null,
   "metadata": {
    "id": "zA5HZ0AiC8ru"
   },
   "outputs": [],
   "source": [
    "my_string = \"It's a beautiful day!\""
   ]
  },
  {
   "cell_type": "markdown",
   "metadata": {
    "id": "EiD1d9cvC8ru"
   },
   "source": [
    "What if our string contains both single and double quotes?\n",
    "\n",
    "We can use triple-quotes! Enclosing the string in triple quotes ensures both single and double quotes are treated correctly."
   ]
  },
  {
   "cell_type": "code",
   "execution_count": null,
   "metadata": {
    "id": "W8VnG_5JC8ru"
   },
   "outputs": [],
   "source": [
    "latitude = '''37° 46' 26.2992\" N'''\n",
    "longitude = '''122° 25' 52.6692\" W'''\n",
    "print(latitude, longitude)"
   ]
  },
  {
   "cell_type": "markdown",
   "metadata": {
    "id": "tvSooWXOC8ru"
   },
   "source": [
    "Backslashes pose another problem when dealing with Windows paths\n"
   ]
  },
  {
   "cell_type": "code",
   "execution_count": null,
   "metadata": {
    "id": "jt0dq0SeC8ru"
   },
   "outputs": [],
   "source": [
    "#path = 'C:\\Users\\ujaval'\n",
    "#print(path)"
   ]
  },
  {
   "cell_type": "markdown",
   "metadata": {
    "id": "8uoCdL4ZC8ru"
   },
   "source": [
    "Prefixing a string with **r** makes is a *Raw string*. Which doesn't interpret backslash as a special character"
   ]
  },
  {
   "cell_type": "code",
   "execution_count": null,
   "metadata": {
    "id": "m3L6ABbPC8ru"
   },
   "outputs": [],
   "source": [
    "path = r'C:\\Users\\ujaval'\n",
    "print(path)"
   ]
  },
  {
   "cell_type": "markdown",
   "metadata": {
    "id": "QwnlGv1yC8ru"
   },
   "source": [
    "## Printing Strings\n",
    "\n",
    "Python provides a few different ways to create strings from variables. Let's learn about the two preferred methods."
   ]
  },
  {
   "cell_type": "markdown",
   "metadata": {
    "id": "qZmO9SG-EV-3"
   },
   "source": [
    "### String `format()` Method\n",
    "\n",
    "We can use the string `format()` method to create a string with curly-braces and specify the values to fill in each field."
   ]
  },
  {
   "cell_type": "code",
   "execution_count": null,
   "metadata": {
    "id": "LfJs4QNxC8ru"
   },
   "outputs": [],
   "source": [
    "city = 'San Francisco'\n",
    "population = 881549\n",
    "output = 'Population of {} is {}.'.format(city, population)\n",
    "print(output)"
   ]
  },
  {
   "cell_type": "markdown",
   "metadata": {
    "id": "UzFdjrhIC8ru"
   },
   "source": [
    "You can also use the format method to control the precision of the numbers"
   ]
  },
  {
   "cell_type": "code",
   "execution_count": null,
   "metadata": {
    "id": "6NdN9WayC8ru"
   },
   "outputs": [],
   "source": [
    "latitude = 37.7749\n",
    "longitude = -122.4194\n",
    "\n",
    "coordinates = '{:.2f},{:.2f}'.format(latitude, longitude)\n",
    "print(coordinates)"
   ]
  },
  {
   "cell_type": "markdown",
   "metadata": {
    "id": "kxxg53YPEfZ9"
   },
   "source": [
    "### F-Strings"
   ]
  },
  {
   "cell_type": "markdown",
   "metadata": {
    "id": "w10MVYcoESRN"
   },
   "source": [
    "Since Python 3.6, we have an improved way for string formatting called *f-strings* - which stands for *formatted string literals*. It works similarly to the `format()` function but provides a more concise syntax. We create an f-string by adding a prefix `f` to any string. The variables within curly-braces inside a f-string are replaced with their values."
   ]
  },
  {
   "cell_type": "code",
   "execution_count": null,
   "metadata": {
    "id": "XyOLCxE1FSKG"
   },
   "outputs": [],
   "source": [
    "city = 'San Francisco'\n",
    "population = 881549\n",
    "output = f'Population of {city} is {population}.'\n",
    "print(output)"
   ]
  },
  {
   "cell_type": "markdown",
   "metadata": {
    "id": "xtfb11FUFloe"
   },
   "source": [
    "The same formatting operators we saw earlier works with f-strings."
   ]
  },
  {
   "cell_type": "code",
   "execution_count": null,
   "metadata": {
    "id": "0IWpkwjcFt_9"
   },
   "outputs": [],
   "source": [
    "latitude = 37.7749\n",
    "longitude = -122.4194\n",
    "\n",
    "coordinates = f'{latitude:.2f},{longitude:.2f}'\n",
    "print(coordinates)"
   ]
  },
  {
   "cell_type": "markdown",
   "metadata": {
    "id": "2aioJZibF1uH"
   },
   "source": [
    "We find that while f-strings are modern and concise - beginners find it more intuitive to use the `format()` method, so we will prefer `format()` over f-strings in this course. But you are free to use any method of your choice."
   ]
  },
  {
   "cell_type": "markdown",
   "metadata": {
    "id": "gNgkbyJKC8ru"
   },
   "source": [
    "----"
   ]
  },
  {
   "cell_type": "markdown",
   "metadata": {
    "id": "-Lw9MXFFC8ru"
   },
   "source": [
    "## Exercise\n",
    "\n",
    "Use the string slicing to extract and print the degrees, minutes and second parts of the string below. The output should be as follows\n",
    "\n",
    "```\n",
    "37\n",
    "46\n",
    "26.2992\n",
    "```"
   ]
  },
  {
   "cell_type": "code",
   "execution_count": null,
   "metadata": {
    "id": "qrFzX4NDC8ru"
   },
   "outputs": [],
   "source": [
    "latitude = '''37° 46' 26.2992\"'''"
   ]
  }
 ],
 "metadata": {
  "colab": {
   "provenance": []
  },
  "kernelspec": {
   "display_name": "Python 3",
   "language": "python",
   "name": "python3"
  },
  "language_info": {
   "codemirror_mode": {
    "name": "ipython",
    "version": 3
   },
   "file_extension": ".py",
   "mimetype": "text/x-python",
   "name": "python",
   "nbconvert_exporter": "python",
   "pygments_lexer": "ipython3",
   "version": "3.9.6"
  }
 },
 "nbformat": 4,
 "nbformat_minor": 0
}
